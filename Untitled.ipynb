{
 "cells": [
  {
   "cell_type": "code",
   "execution_count": 1,
   "metadata": {},
   "outputs": [
    {
     "name": "stderr",
     "output_type": "stream",
     "text": [
      "Using backend: pytorch\n"
     ]
    }
   ],
   "source": [
    "import numpy as np\n",
    "\n",
    "from GraphFloris.WindFarm import WindFarm\n",
    "\n",
    "\n",
    "def prepare_data(farm, n_samples, wind_speed_range, wind_direction_range, num_turbine_list):\n",
    "    nts = np.random.choice(num_turbine_list,\n",
    "                           size=n_samples)\n",
    "    wds = np.random.uniform(low=wind_direction_range[0],\n",
    "                            high=wind_direction_range[1],\n",
    "                            size=n_samples)\n",
    "    wss = np.random.uniform(low=wind_speed_range[0],\n",
    "                            high=wind_speed_range[1],\n",
    "                            size=n_samples)\n",
    "\n",
    "    gs = []\n",
    "    for n, wd, ws in zip(nts, wds, wss):\n",
    "        farm.sample_layout(n)\n",
    "        farm.update_graph(wind_speed=ws, wind_direction=wd)\n",
    "        gs.append(farm.observe())\n",
    "    return gs"
   ]
  },
  {
   "cell_type": "code",
   "execution_count": 11,
   "metadata": {},
   "outputs": [],
   "source": [
    "num_turbines = [5, 10, 15, 20]\n",
    "x_grid_size, y_grid_size = 2000, 2000\n",
    "wd_min, wd_max = 0, 360  # degree; 0: North wind (North -> South) 90: East wind (East -> West)\n",
    "ws_min, ws_max = 6.0, 15.0  # m/sec\n",
    "\n",
    "farm = WindFarm(5, x_grid_size, y_grid_size)\n",
    "\n",
    "n_train = 10\n",
    "n_val = 1\n",
    "\n",
    "train_gs = prepare_data(farm, n_train,\n",
    "                        wind_speed_range=[ws_min, ws_max],\n",
    "                        wind_direction_range=[wd_min, wd_max],\n",
    "                        num_turbine_list=num_turbines)"
   ]
  },
  {
   "cell_type": "code",
   "execution_count": 12,
   "metadata": {},
   "outputs": [
    {
     "data": {
      "text/plain": [
       "(Graph(num_nodes=5, num_edges=10,\n",
       "       ndata_schemes={'x': Scheme(shape=(1,), dtype=torch.float32), 'y': Scheme(shape=(1,), dtype=torch.float32), '_ID': Scheme(shape=(), dtype=torch.int64), 'power': Scheme(shape=(1,), dtype=torch.float32), 'wind_speed': Scheme(shape=(1,), dtype=torch.float32), 'feat': Scheme(shape=(1,), dtype=torch.float32)}\n",
       "       edata_schemes={'dist': Scheme(shape=(1,), dtype=torch.float32), 'is_in_influential_region': Scheme(shape=(1,), dtype=torch.bool), 'down_stream_dist': Scheme(shape=(1,), dtype=torch.float32), 'radial_dist': Scheme(shape=(1,), dtype=torch.float32), '_ID': Scheme(shape=(), dtype=torch.int64), 'feat': Scheme(shape=(2,), dtype=torch.float32)}),\n",
       " tensor([[8.3021]]))"
      ]
     },
     "execution_count": 12,
     "metadata": {},
     "output_type": "execute_result"
    }
   ],
   "source": [
    "train_gs[1]"
   ]
  },
  {
   "cell_type": "code",
   "execution_count": null,
   "metadata": {},
   "outputs": [],
   "source": []
  }
 ],
 "metadata": {
  "kernelspec": {
   "display_name": "Python 3",
   "language": "python",
   "name": "python3"
  },
  "language_info": {
   "codemirror_mode": {
    "name": "ipython",
    "version": 3
   },
   "file_extension": ".py",
   "mimetype": "text/x-python",
   "name": "python",
   "nbconvert_exporter": "python",
   "pygments_lexer": "ipython3",
   "version": "3.7.4"
  }
 },
 "nbformat": 4,
 "nbformat_minor": 4
}
